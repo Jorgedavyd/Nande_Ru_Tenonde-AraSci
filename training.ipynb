{
 "cells": [
  {
   "cell_type": "markdown",
   "metadata": {},
   "source": [
    "# Dependencies"
   ]
  },
  {
   "cell_type": "code",
   "execution_count": null,
   "metadata": {},
   "outputs": [],
   "source": [
    "from torch.utils.data import DataLoader, random_split\n",
    "from torch.optim import Adam, RMSprop\n",
    "from data.preprocessing import *\n",
    "from data.data_utils import *\n",
    "from models.macro_architectures import *\n",
    "from models.df_models import *\n",
    "from utils import *"
   ]
  },
  {
   "cell_type": "markdown",
   "metadata": {},
   "source": [
    "# Defining variables"
   ]
  },
  {
   "cell_type": "code",
   "execution_count": null,
   "metadata": {},
   "outputs": [],
   "source": [
    "sequence_length_hour = 5  #hour\n",
    "sequence_length_minute = 300 #minute\n",
    "pred_length = 5 #hours\n",
    "dict_values = ['dst_kyoto', 'kp_gfz']"
   ]
  },
  {
   "cell_type": "markdown",
   "metadata": {},
   "source": [
    "# Importing data and creating datasets"
   ]
  },
  {
   "cell_type": "code",
   "execution_count": null,
   "metadata": {},
   "outputs": [],
   "source": [
    "#DATA PROCESSING\n",
    "start_time = '20210101'\n",
    "end_time = '20230802'\n",
    "scrap_date = interval_time(start_time, end_time)\n",
    "months = list(set([day[:6] for day in scrap_date]))\n",
    "import_Dst(months)\n",
    "l1_sample, l2_sample, dst, kp = automated_preprocessing(scrap_date, sep = True)\n",
    "l1_sample_hour = (l1_sample[0].resample('60min').mean(), l1_sample[1].resample('60min').mean())\n",
    "l2_sample_hour = (l2_sample[0].resample('60min').mean(), l2_sample[1].resample('60min').mean())"
   ]
  },
  {
   "cell_type": "code",
   "execution_count": null,
   "metadata": {},
   "outputs": [],
   "source": [
    "hour_kp_dataset = KpData(l1_sample_hour, kp, 5, 3, hour=True, sep = True)\n",
    "minute_kp_dataset = KpData(l1_sample_hour, kp, 5, 3, hour=False, sep = True)"
   ]
  },
  {
   "cell_type": "code",
   "execution_count": null,
   "metadata": {},
   "outputs": [],
   "source": [
    "#Test:5% training: 95%\n",
    "\n",
    "test_size = round(0.05*len(hour_kp_dataset))\n",
    "\n",
    "train_hour_kp, test_hour_kp = random_split(hour_kp_dataset , [len(hour_kp_dataset) - test_size, test_size])\n",
    "\n",
    "batch_size = 32  #Change based on GPU capacity\n",
    "\n",
    "train_hour_kp_dl = DataLoader(train_hour_kp, batch_size, shuffle=True, num_workers=4, pin_memory=True)\n",
    "train_hour_kp_dl = DeviceDataLoader(train_hour_kp_dl, device)\n",
    "test_hour_kp_dl = DataLoader(test_hour_kp, batch_size*2, num_workers=4, pin_memory=True)\n",
    "test_hour_kp_dl = DeviceDataLoader(test_hour_kp_dl, device)"
   ]
  },
  {
   "cell_type": "markdown",
   "metadata": {},
   "source": [
    "# Hyperparameters"
   ]
  },
  {
   "cell_type": "code",
   "execution_count": null,
   "metadata": {},
   "outputs": [],
   "source": [
    "##hyperparameters\n",
    "epochs = 20\n",
    "max_lr = 1e-2\n",
    "weigth_decay = 1e-6\n",
    "grad_clip = 1e-1\n",
    "opt_func = Adam\n",
    "#opt_func = RMSprop"
   ]
  },
  {
   "cell_type": "markdown",
   "metadata": {},
   "source": [
    "# Models training"
   ]
  },
  {
   "cell_type": "markdown",
   "metadata": {},
   "source": []
  }
 ],
 "metadata": {
  "language_info": {
   "name": "python"
  }
 },
 "nbformat": 4,
 "nbformat_minor": 2
}
